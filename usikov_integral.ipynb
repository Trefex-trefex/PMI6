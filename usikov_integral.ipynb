{
 "cells": [
  {
   "cell_type": "code",
   "execution_count": 8,
   "metadata": {},
   "outputs": [],
   "source": [
    "from sympy import Symbol, cos as spcos, exp as spexp, integrate\n",
    "from math import exp, cos\n",
    "def leftsum(f, a, b, n):\n",
    "    h = (b - a) / n\n",
    "    s = 0\n",
    "    for i in range(n):\n",
    "        xi = a + i * h\n",
    "        s = s + f(xi)\n",
    "    return h * s\n",
    "\n",
    "def rightsum(f, a, b, n):\n",
    "    h = (b - a) / n\n",
    "    s = 0\n",
    "    for i in range(1, n+1):\n",
    "        xi = a + i * h\n",
    "        s = s + f(xi)\n",
    "    return h * s\n",
    "\n",
    "def centersum(f, a, b, n):\n",
    "    h = (b - a) / n\n",
    "    s = 0\n",
    "    for i in range(n):\n",
    "        xi = a + i * h\n",
    "        xi1 = a + (i + 1) * h\n",
    "        s = s + f((xi + xi1) / 2)\n",
    "    return h * s\n",
    "\n",
    "def accuracy(fsum, f, a, b, n, eps):\n",
    "    t = 1/3\n",
    "    k = n\n",
    "    E = t * abs(fsum(f, a, b, 2*n) - fsum(f, a, b, n))\n",
    "    while E >= eps:\n",
    "        k = k * 2\n",
    "        E = t * abs(fsum(f, a, b, 2*k) - fsum(f, a, b, k))\n",
    "    return fsum(f, a, b, 2 * k), 2 * k\n",
    "    "
   ]
  },
  {
   "cell_type": "code",
   "execution_count": 9,
   "metadata": {},
   "outputs": [
    {
     "name": "stdout",
     "output_type": "stream",
     "text": [
      "точное значение: 0.2153\n",
      "сумма левых прямоугольников: 0.2151, кол-во разбиений: 64\n",
      "сумма правых прямоугольников: 0.2154, кол-во разбиений: 64\n",
      "сумма центральных прямоугольников: 0.2153, кол-во разбиений: 4\n"
     ]
    }
   ],
   "source": [
    "f = lambda x: exp(x) * cos(2*x)\n",
    "a = 0\n",
    "b = 0.2\n",
    "n = 2\n",
    "eps = 1e-4\n",
    "leftsq, countlt = accuracy(leftsum, f, a, b, n, eps)\n",
    "rightsq, countrt = accuracy(rightsum, f, a, b, n, eps)\n",
    "centersq, countcr = accuracy(centersum, f, a, b, n, eps)\n",
    "x = Symbol('x')\n",
    "int0 = integrate(spexp(x)*spcos(2*x), (x, a, b)).evalf()\n",
    "print('точное значение: %6.4f' % int0)\n",
    "print('сумма левых прямоугольников: %6.4f, кол-во разбиений: %d' % (leftsq, countlt))\n",
    "print('сумма правых прямоугольников: %6.4f, кол-во разбиений: %d' % (rightsq, countrt))\n",
    "print('сумма центральных прямоугольников: %6.4f, кол-во разбиений: %d' % (centersq, countcr))\n"
   ]
  },
  {
   "cell_type": "code",
   "execution_count": null,
   "metadata": {},
   "outputs": [],
   "source": []
  }
 ],
 "metadata": {
  "kernelspec": {
   "display_name": "Python 3",
   "language": "python",
   "name": "python3"
  },
  "language_info": {
   "codemirror_mode": {
    "name": "ipython",
    "version": 3
   },
   "file_extension": ".py",
   "mimetype": "text/x-python",
   "name": "python",
   "nbconvert_exporter": "python",
   "pygments_lexer": "ipython3",
   "version": "3.7.4"
  }
 },
 "nbformat": 4,
 "nbformat_minor": 2
}
